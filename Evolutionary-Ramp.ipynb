{
 "cells": [
  {
   "cell_type": "markdown",
   "metadata": {},
   "source": [
    "# Plan:\n",
    "\n",
    "1. DNA\n",
    "2. Genetic ALgorithm\n",
    "3. Inclination of plane\n",
    "4. all together."
   ]
  },
  {
   "cell_type": "code",
   "execution_count": null,
   "metadata": {
    "ExecuteTime": {
     "end_time": "2020-02-15T01:00:24.237336Z",
     "start_time": "2020-02-15T01:00:24.233797Z"
    }
   },
   "outputs": [],
   "source": [
    "import numpy as np\n",
    "\n",
    "np.random.seed(42)"
   ]
  },
  {
   "cell_type": "code",
   "execution_count": null,
   "metadata": {
    "ExecuteTime": {
     "end_time": "2020-02-15T02:44:54.620673Z",
     "start_time": "2020-02-15T02:44:54.610021Z"
    }
   },
   "outputs": [],
   "source": [
    "class DNA:\n",
    "    Genes   = []\n",
    "    Fitness = 0.0\n",
    "    \n",
    "    def __init__(self, size):\n",
    "        self.Genes = [self.getRandomGene() for i in range(size)]\n",
    "        \n",
    "    def getRandomGene(self, low=-90, high=90):\n",
    "        # Returns random angle\n",
    "        return np.random.uniform(low, high)\n",
    "        \n",
    "    def crossover(self, otherParent):\n",
    "        size  = len(this.Genes)\n",
    "        child = DNA(size)\n",
    "        for i in range(size):\n",
    "            if np.random.random() < 0.5:\n",
    "                child[i] = this.Genes[i];\n",
    "            else:\n",
    "                child[i] = otherParent[i]\n",
    "        return child\n",
    "    \n",
    "    def mutate(self):\n",
    "        pass"
   ]
  },
  {
   "cell_type": "code",
   "execution_count": null,
   "metadata": {
    "ExecuteTime": {
     "end_time": "2020-02-15T02:52:48.357306Z",
     "start_time": "2020-02-15T02:52:48.349639Z"
    }
   },
   "outputs": [],
   "source": [
    "class GeneticAlgorithm:\n",
    "    Population = []\n",
    "    Generation = 0\n",
    "    BestFitness = 0\n",
    "    BestGenes = []\n",
    "    FitnessSum = 0\n",
    "    \n",
    "    mutationRate = 0.01\n",
    "    \n",
    "    newPopulation = []\n",
    "        \n",
    "    def __init__(self, popSize, dnaSize):\n",
    "        self.Generation = 1;\n",
    "        self.Population = [DNA(dnaSize) for i in range(popSize)]\n",
    "        self.FitnessSum = 0\n",
    "        \n",
    "    def newGeneration(self):\n",
    "        popSize = len(Population)\n",
    "        \n",
    "        if popSize == 0:\n",
    "            return\n",
    "        \n",
    "        for i in range(popSize):\n",
    "            parent1 = chooseParent()\n",
    "            parent2 = chooseParent()\n",
    "            \n",
    "    def chooseParent(self):\n",
    "        threshold = np.random.random() * self.FitnessSum\n",
    "        \n",
    "        for i in len(Population):\n",
    "            if Population[i].Fitness > threshold:\n",
    "                return Population[i]\n",
    "            threshold -= Population[i].Fitness\n",
    "        # Try again\n",
    "        return chooseParent"
   ]
  },
  {
   "cell_type": "code",
   "execution_count": null,
   "metadata": {
    "ExecuteTime": {
     "end_time": "2020-02-15T02:52:52.788729Z",
     "start_time": "2020-02-15T02:52:52.781945Z"
    }
   },
   "outputs": [],
   "source": [
    "GA = GeneticAlgorithm(popSize=10, dnaSize=1)"
   ]
  },
  {
   "cell_type": "code",
   "execution_count": null,
   "metadata": {
    "ExecuteTime": {
     "end_time": "2020-02-15T02:52:52.981039Z",
     "start_time": "2020-02-15T02:52:52.976010Z"
    }
   },
   "outputs": [],
   "source": [
    "GA.Population[0].Genes"
   ]
  },
  {
   "cell_type": "code",
   "execution_count": null,
   "metadata": {},
   "outputs": [],
   "source": []
  },
  {
   "cell_type": "code",
   "execution_count": null,
   "metadata": {},
   "outputs": [],
   "source": []
  },
  {
   "cell_type": "code",
   "execution_count": 26,
   "metadata": {
    "ExecuteTime": {
     "end_time": "2020-02-15T04:37:09.140952Z",
     "start_time": "2020-02-15T04:37:09.137728Z"
    }
   },
   "outputs": [],
   "source": [
    "from mujoco_py import load_model_from_path, utils\n",
    "from mujoco_py import MjSim#, MjViewer, MjViewerBasic"
   ]
  },
  {
   "cell_type": "code",
   "execution_count": 27,
   "metadata": {
    "ExecuteTime": {
     "end_time": "2020-02-15T04:37:09.379448Z",
     "start_time": "2020-02-15T04:37:09.374978Z"
    }
   },
   "outputs": [],
   "source": [
    "import matplotlib.pyplot as plt"
   ]
  },
  {
   "cell_type": "code",
   "execution_count": 28,
   "metadata": {
    "ExecuteTime": {
     "end_time": "2020-02-15T04:37:11.735319Z",
     "start_time": "2020-02-15T04:37:09.914009Z"
    }
   },
   "outputs": [
    {
     "name": "stdout",
     "output_type": "stream",
     "text": [
      "0.0\n",
      "None\n"
     ]
    }
   ],
   "source": [
    "import os\n",
    "mj_path, _ = utils.discover_mujoco()\n",
    "\n",
    "xml_path = os.path.join(mj_path, 'model', 'ramp-v0.xml')\n",
    "model = load_model_from_path(xml_path)\n",
    "\n",
    "\n",
    "sims = []\n",
    "for i in range(10):\n",
    "    sim = MjSim(model)\n",
    "    sim.reset()\n",
    "    #sim.model.set_mocap_pos('main-plane', (1, 0.1, 0,0))\n",
    "    sims.append(sims)\n",
    "\n",
    "sim = MjSim(model)\n",
    "#viewer = MjViewerBasic(sim)\n",
    "print(sim.data.qpos[1])\n",
    "# [0. 0. 0. 0. 0. 0. 0. 0. 0. 0. 0. 0. 0. 0. 0. 0. 0. 0. 0. 0. 0.]\n",
    "\n",
    "sim.reset()\n",
    "for i in range(1500):\n",
    "    #if i%100==0:\n",
    "        #print(sim.data.qvel[1])\n",
    "    sim.step()\n",
    "    \n",
    "    #viewer.render()\n",
    "\n",
    "print(sim.data.act)"
   ]
  },
  {
   "cell_type": "code",
   "execution_count": 23,
   "metadata": {
    "ExecuteTime": {
     "end_time": "2020-02-15T04:34:52.782696Z",
     "start_time": "2020-02-15T04:34:52.774105Z"
    }
   },
   "outputs": [
    {
     "ename": "AttributeError",
     "evalue": "'mujoco_py.cymj.PyMjModel' object has no attribute 'mj_name2id'",
     "output_type": "error",
     "traceback": [
      "\u001b[0;31m---------------------------------------------------------------------------\u001b[0m",
      "\u001b[0;31mAttributeError\u001b[0m                            Traceback (most recent call last)",
      "\u001b[0;32m<ipython-input-23-c6cd6e492f6c>\u001b[0m in \u001b[0;36m<module>\u001b[0;34m\u001b[0m\n\u001b[0;32m----> 1\u001b[0;31m \u001b[0mmodel\u001b[0m\u001b[0;34m.\u001b[0m\u001b[0mmj_name2id\u001b[0m\u001b[0;34m(\u001b[0m\u001b[0;34m\"main-plane\"\u001b[0m\u001b[0;34m)\u001b[0m\u001b[0;34m\u001b[0m\u001b[0;34m\u001b[0m\u001b[0m\n\u001b[0m",
      "\u001b[0;31mAttributeError\u001b[0m: 'mujoco_py.cymj.PyMjModel' object has no attribute 'mj_name2id'"
     ]
    }
   ],
   "source": [
    "model.mj_name2id(\"main-plane\")"
   ]
  },
  {
   "cell_type": "code",
   "execution_count": null,
   "metadata": {},
   "outputs": [],
   "source": []
  }
 ],
 "metadata": {
  "kernelspec": {
   "display_name": "Python 3",
   "language": "python",
   "name": "python3"
  },
  "language_info": {
   "codemirror_mode": {
    "name": "ipython",
    "version": 3
   },
   "file_extension": ".py",
   "mimetype": "text/x-python",
   "name": "python",
   "nbconvert_exporter": "python",
   "pygments_lexer": "ipython3",
   "version": "3.7.3"
  },
  "toc": {
   "base_numbering": 1,
   "nav_menu": {},
   "number_sections": true,
   "sideBar": true,
   "skip_h1_title": false,
   "title_cell": "Table of Contents",
   "title_sidebar": "Contents",
   "toc_cell": false,
   "toc_position": {},
   "toc_section_display": true,
   "toc_window_display": false
  }
 },
 "nbformat": 4,
 "nbformat_minor": 2
}
