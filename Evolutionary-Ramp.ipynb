{
 "cells": [
  {
   "cell_type": "markdown",
   "metadata": {},
   "source": [
    "# Plan:\n",
    "\n",
    "1. DNA\n",
    "2. Genetic ALgorithm\n",
    "3. Inclination of plane\n",
    "4. all together."
   ]
  },
  {
   "cell_type": "code",
   "execution_count": 49,
   "metadata": {
    "ExecuteTime": {
     "end_time": "2020-02-22T14:52:30.718415Z",
     "start_time": "2020-02-22T14:52:30.712262Z"
    }
   },
   "outputs": [],
   "source": [
    "import numpy as np\n",
    "\n",
    "np.random.seed(42)"
   ]
  },
  {
   "cell_type": "code",
   "execution_count": 50,
   "metadata": {
    "ExecuteTime": {
     "end_time": "2020-02-22T14:52:30.726363Z",
     "start_time": "2020-02-22T14:52:30.721566Z"
    }
   },
   "outputs": [],
   "source": [
    "from mujoco_py import load_model_from_path, utils\n",
    "from mujoco_py import MjSim, MjViewer, MjViewerBasic"
   ]
  },
  {
   "cell_type": "code",
   "execution_count": 51,
   "metadata": {
    "ExecuteTime": {
     "end_time": "2020-02-22T14:52:30.730737Z",
     "start_time": "2020-02-22T14:52:30.728539Z"
    }
   },
   "outputs": [],
   "source": [
    "import matplotlib.pyplot as plt"
   ]
  },
  {
   "cell_type": "code",
   "execution_count": 52,
   "metadata": {
    "ExecuteTime": {
     "end_time": "2020-02-22T14:52:30.735861Z",
     "start_time": "2020-02-22T14:52:30.732784Z"
    }
   },
   "outputs": [],
   "source": [
    "import os\n",
    "#mj_path, _ = utils.discover_mujoco()\n",
    "\n",
    "#xml_path = os.path.join(mj_path, 'model', 'ramp-v0.xml')\n",
    "xml_path = os.path.join('./', 'model', 'one-ramp.xml')"
   ]
  },
  {
   "cell_type": "code",
   "execution_count": 53,
   "metadata": {
    "ExecuteTime": {
     "end_time": "2020-02-22T14:52:30.741755Z",
     "start_time": "2020-02-22T14:52:30.738170Z"
    }
   },
   "outputs": [
    {
     "data": {
      "text/plain": [
       "'./model/one-ramp.xml'"
      ]
     },
     "execution_count": 53,
     "metadata": {},
     "output_type": "execute_result"
    }
   ],
   "source": [
    "xml_path"
   ]
  },
  {
   "cell_type": "code",
   "execution_count": 54,
   "metadata": {
    "ExecuteTime": {
     "end_time": "2020-02-22T14:52:30.759860Z",
     "start_time": "2020-02-22T14:52:30.744111Z"
    }
   },
   "outputs": [],
   "source": [
    "class DNA:\n",
    "    Genes   = []\n",
    "    BinaryGenes = []\n",
    "    Fitness = 0.0\n",
    "    \n",
    "    # Significant digits for binary conversion\n",
    "    sigDig = 4\n",
    "    \n",
    "    def __init__(self, size):\n",
    "        self.Genes = [self.getRandomGene() for i in range(size)]\n",
    "        self.BinaryGenes = [self.toBinary(self.Genes[i]) for i in range(size)]\n",
    "        self.Fitness = 0.0\n",
    "        #print(self.BinaryGenes)\n",
    "        \n",
    "    def getRandomGene(self, low=-1, high=1):\n",
    "        # Returns random angle\n",
    "        return np.random.uniform(low, high)\n",
    "        \n",
    "    def crossover(self, otherParent):\n",
    "        size  = len(self.Genes)\n",
    "        child = DNA(size)\n",
    "        \n",
    "        for i in range(size):\n",
    "            childBinary = self.toBinary(child.Genes[i])\n",
    "            \n",
    "            #print(self.BinaryGenes)\n",
    "            \n",
    "            for j in range(len(childBinary)):\n",
    "                if np.random.random() < 0.5:\n",
    "                    #child.Genes[i] = self.Genes[i]\n",
    "                    #print(self.BinaryGenes, i,j)\n",
    "                    #print(childBinary, i,j)\n",
    "                    childBinary[j] = self.BinaryGenes[i][j]\n",
    "                else:\n",
    "                    #child.Genes[i] = otherParent.Genes[i]\n",
    "                    childBinary[j] = otherParent.BinaryGenes[i][j]\n",
    "                    \n",
    "            child.Genes[i] = self.fromBinary(childBinary)\n",
    "        return child\n",
    "    \n",
    "    def setFitness(self, fitness):\n",
    "        self.Fitness = fitness\n",
    "        \n",
    "    def mutate(self, rate):\n",
    "        for i in range(len(self.Genes)):\n",
    "            for j in range(len(self.BinaryGenes[i])):\n",
    "                if np.random.random() < rate:\n",
    "                    self.BinaryGenes[i][j] = 1 - self.BinaryGenes[i][j]\n",
    "            self.Genes[i] = self.fromBinary(self.BinaryGenes[i])\n",
    "    \n",
    "    def toBinary(self, num, bits=16, sigDig=4):\n",
    "        rest = int(num*10**sigDig)\n",
    "        binary = []\n",
    "        while rest > 1:\n",
    "            binary.append(rest % 2)\n",
    "            rest = rest//2\n",
    "        # rest 1 or 0\n",
    "        binary.append(rest % 2)\n",
    "        \n",
    "        # Complete with zeros to fill 32 bits\n",
    "        binary.extend([0]*(bits-len(binary)))\n",
    "            \n",
    "\n",
    "        return binary[::-1] \n",
    "    \n",
    "    def fromBinary(self, bNum, sigDig=4):\n",
    "        l = len(bNum)\n",
    "        return sum([bNum[l-1-i]*(2**i) for i in range(l)])/10**sigDig"
   ]
  },
  {
   "cell_type": "code",
   "execution_count": null,
   "metadata": {},
   "outputs": [],
   "source": []
  },
  {
   "cell_type": "code",
   "execution_count": 55,
   "metadata": {
    "ExecuteTime": {
     "end_time": "2020-02-22T14:52:30.768775Z",
     "start_time": "2020-02-22T14:52:30.761579Z"
    }
   },
   "outputs": [
    {
     "data": {
      "text/plain": [
       "[1, 1, 1, [0, 0, 0, 0, 0]]"
      ]
     },
     "execution_count": 55,
     "metadata": {},
     "output_type": "execute_result"
    }
   ],
   "source": [
    "a = [1,1,1]\n",
    "a.extend([[0]*5])\n",
    "a"
   ]
  },
  {
   "cell_type": "code",
   "execution_count": 56,
   "metadata": {
    "ExecuteTime": {
     "end_time": "2020-02-22T14:52:30.783075Z",
     "start_time": "2020-02-22T14:52:30.770282Z"
    }
   },
   "outputs": [],
   "source": [
    "class GeneticAlgorithm:\n",
    "    Population = []\n",
    "    Generation = 0\n",
    "    BestFitness = 0\n",
    "    BestAngle = 0\n",
    "    BestGenes = []\n",
    "    FitnessSum = 0\n",
    "    \n",
    "    mutationRate = 0.01\n",
    "    \n",
    "    newPopulation = []\n",
    "    popSize = 0\n",
    "    eliteSize = 5\n",
    "        \n",
    "    def __init__(self, popSize, dnaSize, eliteSize=5):\n",
    "        self.Generation = 1;\n",
    "        self.Population = [DNA(dnaSize) for i in range(popSize)]\n",
    "        self.popSize = popSize\n",
    "        self.eliteSize = eliteSize\n",
    "        self.FitnessSum = 0\n",
    "        print(\"Random population of {} individuals created.\".format(popSize))\n",
    "        \n",
    "    def newGeneration(self):\n",
    "        if self.popSize == 0:\n",
    "            print(\"Error: Empty population\")\n",
    "            return\n",
    "        \n",
    "        #Sort population by fitness\n",
    "        self.Population.sort(key=lambda x: x.Fitness, reverse=True)\n",
    "        #Start creating a new population\n",
    "        self.newPopulation = []\n",
    "        for i in range(self.popSize):\n",
    "            print(\"Generating new individuals {} / {} \".format(i, self.popSize), end=\"\\r\")\n",
    "            if i < self.eliteSize:\n",
    "                self.newPopulation.append(self.Population[i])\n",
    "            else:\n",
    "                parent1 = self.chooseParent()\n",
    "                parent2 = self.chooseParent()\n",
    "\n",
    "                child = parent1.crossover(parent2)\n",
    "\n",
    "                child.mutate(self.mutationRate)\n",
    "\n",
    "                self.newPopulation.append(child)\n",
    "        print(\"\\nDone.\")\n",
    "        # Swap entire lists <:O!\n",
    "        self.Population, self.newPopulation = self.newPopulation, self.Population\n",
    "        \n",
    "        self.Generation += 1\n",
    "            \n",
    "    def chooseParent(self):\n",
    "        threshold = np.random.random() * self.FitnessSum\n",
    "        #print(threshold)\n",
    "        \n",
    "        for i in range(len(self.Population)):\n",
    "            if self.Population[i].Fitness > threshold:\n",
    "                return self.Population[i]\n",
    "            threshold -= abs(self.Population[i].Fitness)\n",
    "        # Try again\n",
    "        return self.chooseParent()\n",
    "    \n",
    "    def calculateFitness(self):\n",
    "        model = load_model_from_path(xml_path)\n",
    "        for i in range(self.popSize):\n",
    "            # Get angle from gene\n",
    "            print(\"Simulating {} / {} \".format(i, self.popSize), end=\"\\r\")\n",
    "            angle = self.Population[i].Genes[0]\n",
    "            #print(\"Angle:\", angle)\n",
    "            # Modify mujoco model ramp with that angle\n",
    "            model.body_quat[1] = [0.25, angle, 0, 0]\n",
    "            sim = MjSim(model)\n",
    "            sim.reset()\n",
    "            for j in range(300):\n",
    "                sim.step()\n",
    "            # Get horizontal position of ball\n",
    "            fitness = sim.data.qpos[1]\n",
    "            #print(\"Fitness {}: {}\".format(i, fitness))\n",
    "            self.Population[i].setFitness(fitness)\n",
    "            self.FitnessSum += abs(fitness)\n",
    "            # Save best individual\n",
    "            if fitness > self.BestFitness:\n",
    "                self.BestFitness = fitness\n",
    "                self.BestAngle = self.Population[i].Genes[0]\n",
    "        # Information\n",
    "        print(\"\\nDone.\")\n",
    "        print(\"Generation: {} \".format(self.Generation) )\n",
    "        print(\"Best fitness: \", self.BestFitness)\n",
    "        print(\"Best angle: \", self.BestAngle)"
   ]
  },
  {
   "cell_type": "code",
   "execution_count": 57,
   "metadata": {
    "ExecuteTime": {
     "end_time": "2020-02-22T14:52:30.794025Z",
     "start_time": "2020-02-22T14:52:30.784569Z"
    },
    "code_folding": [
     0
    ],
    "run_control": {
     "marked": true
    }
   },
   "outputs": [],
   "source": [
    "    def bkpcalculateFitness(self):\n",
    "        sims = []\n",
    "        for i in range(self.popSize):\n",
    "            # Get angle from gene\n",
    "            angle = self.Population[i].Genes[0]\n",
    "            #print(\"Angle:\", angle)\n",
    "            # Modify mujoco model ramp with that angle\n",
    "            model = load_model_from_path(xml_path)\n",
    "            model.body_quat[1] = [0.25, angle, 0, 0]\n",
    "            sim = MjSim(model)\n",
    "            sims.append(sim)\n",
    "\n",
    "        for i in range(self.popSize):\n",
    "            sims[i].reset()\n",
    "            for j in range(1500):\n",
    "                sims[i].step()\n",
    "            # Get horizontal position of ball\n",
    "            fitness = sims[i].data.qpos[1]\n",
    "            #print(\"Fitness {}: {}\".format(i, fitness))\n",
    "            self.Population[i].setFitness(fitness)\n",
    "            self.FitnessSum += abs(fitness)\n",
    "            # Save best individual\n",
    "            if fitness > self.BestFitness:\n",
    "                self.BestFitness = fitness\n",
    "                self.BestAngle = self.Population[i].Genes[0]"
   ]
  },
  {
   "cell_type": "code",
   "execution_count": 58,
   "metadata": {
    "ExecuteTime": {
     "end_time": "2020-02-22T14:52:32.502245Z",
     "start_time": "2020-02-22T14:52:32.441311Z"
    }
   },
   "outputs": [
    {
     "name": "stdout",
     "output_type": "stream",
     "text": [
      "Random population of 10000 individuals created.\n"
     ]
    }
   ],
   "source": [
    "GA = GeneticAlgorithm(popSize=10000, dnaSize=1)"
   ]
  },
  {
   "cell_type": "code",
   "execution_count": 59,
   "metadata": {
    "ExecuteTime": {
     "end_time": "2020-02-22T14:52:34.055710Z",
     "start_time": "2020-02-22T14:52:34.045179Z"
    }
   },
   "outputs": [
    {
     "name": "stdout",
     "output_type": "stream",
     "text": [
      "Top 10 individuals:\n",
      "\n",
      "1: Fitness: 0.0\t\tAngle: [-0.250919762305275]\n",
      "2: Fitness: 0.0\t\tAngle: [0.9014286128198323]\n",
      "3: Fitness: 0.0\t\tAngle: [0.4639878836228102]\n",
      "4: Fitness: 0.0\t\tAngle: [0.1973169683940732]\n",
      "5: Fitness: 0.0\t\tAngle: [-0.687962719115127]\n",
      "6: Fitness: 0.0\t\tAngle: [-0.6880109593275947]\n",
      "7: Fitness: 0.0\t\tAngle: [-0.8838327756636011]\n",
      "8: Fitness: 0.0\t\tAngle: [0.7323522915498704]\n",
      "9: Fitness: 0.0\t\tAngle: [0.2022300234864176]\n",
      "10: Fitness: 0.0\t\tAngle: [0.416145155592091]\n"
     ]
    }
   ],
   "source": [
    "def showTopN(n=10):\n",
    "    print(\"Top {} individuals:\\n\".format(n))\n",
    "    GA.Population.sort(key=lambda x: x.Fitness, reverse=True)\n",
    "    for i in range(n):\n",
    "        print(\"{}: Fitness: {}\\t\\tAngle: {}\".format(i+1, GA.Population[i].Fitness, GA.Population[i].Genes))\n",
    "    \n",
    "showTopN()"
   ]
  },
  {
   "cell_type": "code",
   "execution_count": 60,
   "metadata": {
    "ExecuteTime": {
     "end_time": "2020-02-22T15:02:21.048206Z",
     "start_time": "2020-02-22T14:52:34.850867Z"
    }
   },
   "outputs": [
    {
     "name": "stdout",
     "output_type": "stream",
     "text": [
      "Done.ating 9999 / 10000 \n",
      "Generation: 1 \n",
      "Best fitness:  3.906839127071122\n",
      "Best angle:  -0.24360730094356198\n",
      "Top 10 individuals:\n",
      "\n",
      "1: Fitness: 3.906839127071122\t\tAngle: [-0.24360730094356198]\n",
      "2: Fitness: 3.9062128038240327\t\tAngle: [0.2566942350988888]\n",
      "3: Fitness: 3.9062108319991524\t\tAngle: [0.2494013388132159]\n",
      "4: Fitness: 3.906068746580877\t\tAngle: [0.24932713770852755]\n",
      "5: Fitness: 3.905946431652785\t\tAngle: [0.2564131941860879]\n",
      "6: Fitness: 3.905907703348379\t\tAngle: [-0.24336878566948106]\n",
      "7: Fitness: 3.9059075900935385\t\tAngle: [-0.24393787553360968]\n",
      "8: Fitness: 3.905818426876361\t\tAngle: [0.2512998258829062]\n",
      "9: Fitness: 3.9058009555284356\t\tAngle: [-0.2502588409525919]\n",
      "10: Fitness: 3.9057913025811897\t\tAngle: [-0.24395010113119597]\n",
      "Done.ating new individuals 9999 / 10000 \n",
      "Done.ating 9999 / 10000 \n",
      "Generation: 2 \n",
      "Best fitness:  3.907193004998579\n",
      "Best angle:  0.2566\n",
      "Top 10 individuals:\n",
      "\n",
      "1: Fitness: 3.907193004998579\t\tAngle: [0.2566]\n",
      "2: Fitness: 3.907058133557159\t\tAngle: [0.2573]\n",
      "3: Fitness: 3.907058133557159\t\tAngle: [0.2573]\n",
      "4: Fitness: 3.906839127071122\t\tAngle: [-0.24360730094356198]\n",
      "5: Fitness: 3.9067124726574654\t\tAngle: [0.2564]\n",
      "6: Fitness: 3.9064889393448308\t\tAngle: [0.2565]\n",
      "7: Fitness: 3.90634783827838\t\tAngle: [0.256]\n",
      "8: Fitness: 3.90634783827838\t\tAngle: [0.256]\n",
      "9: Fitness: 3.9062128038240327\t\tAngle: [0.2566942350988888]\n",
      "10: Fitness: 3.9062108319991524\t\tAngle: [0.2494013388132159]\n",
      "Done.ating new individuals 9999 / 10000 \n",
      "Done.ating 9999 / 10000 \n",
      "Generation: 3 \n",
      "Best fitness:  3.907193004998579\n",
      "Best angle:  0.2566\n",
      "Top 10 individuals:\n",
      "\n",
      "1: Fitness: 3.907193004998579\t\tAngle: [0.2566]\n",
      "2: Fitness: 3.907058133557159\t\tAngle: [0.2573]\n",
      "3: Fitness: 3.907058133557159\t\tAngle: [0.2573]\n",
      "4: Fitness: 3.907058133557159\t\tAngle: [0.2573]\n",
      "5: Fitness: 3.906839127071122\t\tAngle: [-0.24360730094356198]\n",
      "6: Fitness: 3.9067124726574654\t\tAngle: [0.2564]\n",
      "7: Fitness: 3.906671484378531\t\tAngle: [0.2504]\n",
      "8: Fitness: 3.906671484378531\t\tAngle: [0.2504]\n",
      "9: Fitness: 3.9064889393448308\t\tAngle: [0.2565]\n",
      "10: Fitness: 3.90634783827838\t\tAngle: [0.256]\n",
      "Done.ating new individuals 9999 / 10000 \n",
      "Done.ating 9999 / 10000 \n",
      "Generation: 4 \n",
      "Best fitness:  3.907193004998579\n",
      "Best angle:  0.2566\n",
      "Top 10 individuals:\n",
      "\n",
      "1: Fitness: 3.907193004998579\t\tAngle: [0.2566]\n",
      "2: Fitness: 3.907193004998579\t\tAngle: [0.2566]\n",
      "3: Fitness: 3.907058133557159\t\tAngle: [0.2573]\n",
      "4: Fitness: 3.907058133557159\t\tAngle: [0.2573]\n",
      "5: Fitness: 3.907058133557159\t\tAngle: [0.2573]\n",
      "6: Fitness: 3.906839127071122\t\tAngle: [-0.24360730094356198]\n",
      "7: Fitness: 3.9067124726574654\t\tAngle: [0.2564]\n",
      "8: Fitness: 3.90634783827838\t\tAngle: [0.256]\n",
      "9: Fitness: 3.90634783827838\t\tAngle: [0.256]\n",
      "10: Fitness: 3.9058156295682696\t\tAngle: [0.2562]\n",
      "Generating new individuals 5757 / 10000 \r"
     ]
    },
    {
     "ename": "KeyboardInterrupt",
     "evalue": "",
     "output_type": "error",
     "traceback": [
      "\u001b[0;31m---------------------------------------------------------------------------\u001b[0m",
      "\u001b[0;31mKeyboardInterrupt\u001b[0m                         Traceback (most recent call last)",
      "\u001b[0;32m<ipython-input-60-2e6cb17149d8>\u001b[0m in \u001b[0;36m<module>\u001b[0;34m\u001b[0m\n\u001b[1;32m      2\u001b[0m     \u001b[0mGA\u001b[0m\u001b[0;34m.\u001b[0m\u001b[0mcalculateFitness\u001b[0m\u001b[0;34m(\u001b[0m\u001b[0;34m)\u001b[0m\u001b[0;34m\u001b[0m\u001b[0;34m\u001b[0m\u001b[0m\n\u001b[1;32m      3\u001b[0m     \u001b[0mshowTopN\u001b[0m\u001b[0;34m(\u001b[0m\u001b[0;34m)\u001b[0m\u001b[0;34m\u001b[0m\u001b[0;34m\u001b[0m\u001b[0m\n\u001b[0;32m----> 4\u001b[0;31m     \u001b[0mGA\u001b[0m\u001b[0;34m.\u001b[0m\u001b[0mnewGeneration\u001b[0m\u001b[0;34m(\u001b[0m\u001b[0;34m)\u001b[0m\u001b[0;34m\u001b[0m\u001b[0;34m\u001b[0m\u001b[0m\n\u001b[0m",
      "\u001b[0;32m<ipython-input-56-fc1836c74b87>\u001b[0m in \u001b[0;36mnewGeneration\u001b[0;34m(self)\u001b[0m\n\u001b[1;32m     35\u001b[0m                 \u001b[0mself\u001b[0m\u001b[0;34m.\u001b[0m\u001b[0mnewPopulation\u001b[0m\u001b[0;34m.\u001b[0m\u001b[0mappend\u001b[0m\u001b[0;34m(\u001b[0m\u001b[0mself\u001b[0m\u001b[0;34m.\u001b[0m\u001b[0mPopulation\u001b[0m\u001b[0;34m[\u001b[0m\u001b[0mi\u001b[0m\u001b[0;34m]\u001b[0m\u001b[0;34m)\u001b[0m\u001b[0;34m\u001b[0m\u001b[0;34m\u001b[0m\u001b[0m\n\u001b[1;32m     36\u001b[0m             \u001b[0;32melse\u001b[0m\u001b[0;34m:\u001b[0m\u001b[0;34m\u001b[0m\u001b[0;34m\u001b[0m\u001b[0m\n\u001b[0;32m---> 37\u001b[0;31m                 \u001b[0mparent1\u001b[0m \u001b[0;34m=\u001b[0m \u001b[0mself\u001b[0m\u001b[0;34m.\u001b[0m\u001b[0mchooseParent\u001b[0m\u001b[0;34m(\u001b[0m\u001b[0;34m)\u001b[0m\u001b[0;34m\u001b[0m\u001b[0;34m\u001b[0m\u001b[0m\n\u001b[0m\u001b[1;32m     38\u001b[0m                 \u001b[0mparent2\u001b[0m \u001b[0;34m=\u001b[0m \u001b[0mself\u001b[0m\u001b[0;34m.\u001b[0m\u001b[0mchooseParent\u001b[0m\u001b[0;34m(\u001b[0m\u001b[0;34m)\u001b[0m\u001b[0;34m\u001b[0m\u001b[0;34m\u001b[0m\u001b[0m\n\u001b[1;32m     39\u001b[0m \u001b[0;34m\u001b[0m\u001b[0m\n",
      "\u001b[0;32m<ipython-input-56-fc1836c74b87>\u001b[0m in \u001b[0;36mchooseParent\u001b[0;34m(self)\u001b[0m\n\u001b[1;32m     58\u001b[0m             \u001b[0mthreshold\u001b[0m \u001b[0;34m-=\u001b[0m \u001b[0mabs\u001b[0m\u001b[0;34m(\u001b[0m\u001b[0mself\u001b[0m\u001b[0;34m.\u001b[0m\u001b[0mPopulation\u001b[0m\u001b[0;34m[\u001b[0m\u001b[0mi\u001b[0m\u001b[0;34m]\u001b[0m\u001b[0;34m.\u001b[0m\u001b[0mFitness\u001b[0m\u001b[0;34m)\u001b[0m\u001b[0;34m\u001b[0m\u001b[0;34m\u001b[0m\u001b[0m\n\u001b[1;32m     59\u001b[0m         \u001b[0;31m# Try again\u001b[0m\u001b[0;34m\u001b[0m\u001b[0;34m\u001b[0m\u001b[0;34m\u001b[0m\u001b[0m\n\u001b[0;32m---> 60\u001b[0;31m         \u001b[0;32mreturn\u001b[0m \u001b[0mself\u001b[0m\u001b[0;34m.\u001b[0m\u001b[0mchooseParent\u001b[0m\u001b[0;34m(\u001b[0m\u001b[0;34m)\u001b[0m\u001b[0;34m\u001b[0m\u001b[0;34m\u001b[0m\u001b[0m\n\u001b[0m\u001b[1;32m     61\u001b[0m \u001b[0;34m\u001b[0m\u001b[0m\n\u001b[1;32m     62\u001b[0m     \u001b[0;32mdef\u001b[0m \u001b[0mcalculateFitness\u001b[0m\u001b[0;34m(\u001b[0m\u001b[0mself\u001b[0m\u001b[0;34m)\u001b[0m\u001b[0;34m:\u001b[0m\u001b[0;34m\u001b[0m\u001b[0;34m\u001b[0m\u001b[0m\n",
      "\u001b[0;32m<ipython-input-56-fc1836c74b87>\u001b[0m in \u001b[0;36mchooseParent\u001b[0;34m(self)\u001b[0m\n\u001b[1;32m     58\u001b[0m             \u001b[0mthreshold\u001b[0m \u001b[0;34m-=\u001b[0m \u001b[0mabs\u001b[0m\u001b[0;34m(\u001b[0m\u001b[0mself\u001b[0m\u001b[0;34m.\u001b[0m\u001b[0mPopulation\u001b[0m\u001b[0;34m[\u001b[0m\u001b[0mi\u001b[0m\u001b[0;34m]\u001b[0m\u001b[0;34m.\u001b[0m\u001b[0mFitness\u001b[0m\u001b[0;34m)\u001b[0m\u001b[0;34m\u001b[0m\u001b[0;34m\u001b[0m\u001b[0m\n\u001b[1;32m     59\u001b[0m         \u001b[0;31m# Try again\u001b[0m\u001b[0;34m\u001b[0m\u001b[0;34m\u001b[0m\u001b[0;34m\u001b[0m\u001b[0m\n\u001b[0;32m---> 60\u001b[0;31m         \u001b[0;32mreturn\u001b[0m \u001b[0mself\u001b[0m\u001b[0;34m.\u001b[0m\u001b[0mchooseParent\u001b[0m\u001b[0;34m(\u001b[0m\u001b[0;34m)\u001b[0m\u001b[0;34m\u001b[0m\u001b[0;34m\u001b[0m\u001b[0m\n\u001b[0m\u001b[1;32m     61\u001b[0m \u001b[0;34m\u001b[0m\u001b[0m\n\u001b[1;32m     62\u001b[0m     \u001b[0;32mdef\u001b[0m \u001b[0mcalculateFitness\u001b[0m\u001b[0;34m(\u001b[0m\u001b[0mself\u001b[0m\u001b[0;34m)\u001b[0m\u001b[0;34m:\u001b[0m\u001b[0;34m\u001b[0m\u001b[0;34m\u001b[0m\u001b[0m\n",
      "\u001b[0;32m<ipython-input-56-fc1836c74b87>\u001b[0m in \u001b[0;36mchooseParent\u001b[0;34m(self)\u001b[0m\n\u001b[1;32m     58\u001b[0m             \u001b[0mthreshold\u001b[0m \u001b[0;34m-=\u001b[0m \u001b[0mabs\u001b[0m\u001b[0;34m(\u001b[0m\u001b[0mself\u001b[0m\u001b[0;34m.\u001b[0m\u001b[0mPopulation\u001b[0m\u001b[0;34m[\u001b[0m\u001b[0mi\u001b[0m\u001b[0;34m]\u001b[0m\u001b[0;34m.\u001b[0m\u001b[0mFitness\u001b[0m\u001b[0;34m)\u001b[0m\u001b[0;34m\u001b[0m\u001b[0;34m\u001b[0m\u001b[0m\n\u001b[1;32m     59\u001b[0m         \u001b[0;31m# Try again\u001b[0m\u001b[0;34m\u001b[0m\u001b[0;34m\u001b[0m\u001b[0;34m\u001b[0m\u001b[0m\n\u001b[0;32m---> 60\u001b[0;31m         \u001b[0;32mreturn\u001b[0m \u001b[0mself\u001b[0m\u001b[0;34m.\u001b[0m\u001b[0mchooseParent\u001b[0m\u001b[0;34m(\u001b[0m\u001b[0;34m)\u001b[0m\u001b[0;34m\u001b[0m\u001b[0;34m\u001b[0m\u001b[0m\n\u001b[0m\u001b[1;32m     61\u001b[0m \u001b[0;34m\u001b[0m\u001b[0m\n\u001b[1;32m     62\u001b[0m     \u001b[0;32mdef\u001b[0m \u001b[0mcalculateFitness\u001b[0m\u001b[0;34m(\u001b[0m\u001b[0mself\u001b[0m\u001b[0;34m)\u001b[0m\u001b[0;34m:\u001b[0m\u001b[0;34m\u001b[0m\u001b[0;34m\u001b[0m\u001b[0m\n",
      "\u001b[0;32m<ipython-input-56-fc1836c74b87>\u001b[0m in \u001b[0;36mchooseParent\u001b[0;34m(self)\u001b[0m\n\u001b[1;32m     54\u001b[0m \u001b[0;34m\u001b[0m\u001b[0m\n\u001b[1;32m     55\u001b[0m         \u001b[0;32mfor\u001b[0m \u001b[0mi\u001b[0m \u001b[0;32min\u001b[0m \u001b[0mrange\u001b[0m\u001b[0;34m(\u001b[0m\u001b[0mlen\u001b[0m\u001b[0;34m(\u001b[0m\u001b[0mself\u001b[0m\u001b[0;34m.\u001b[0m\u001b[0mPopulation\u001b[0m\u001b[0;34m)\u001b[0m\u001b[0;34m)\u001b[0m\u001b[0;34m:\u001b[0m\u001b[0;34m\u001b[0m\u001b[0;34m\u001b[0m\u001b[0m\n\u001b[0;32m---> 56\u001b[0;31m             \u001b[0;32mif\u001b[0m \u001b[0mself\u001b[0m\u001b[0;34m.\u001b[0m\u001b[0mPopulation\u001b[0m\u001b[0;34m[\u001b[0m\u001b[0mi\u001b[0m\u001b[0;34m]\u001b[0m\u001b[0;34m.\u001b[0m\u001b[0mFitness\u001b[0m \u001b[0;34m>\u001b[0m \u001b[0mthreshold\u001b[0m\u001b[0;34m:\u001b[0m\u001b[0;34m\u001b[0m\u001b[0;34m\u001b[0m\u001b[0m\n\u001b[0m\u001b[1;32m     57\u001b[0m                 \u001b[0;32mreturn\u001b[0m \u001b[0mself\u001b[0m\u001b[0;34m.\u001b[0m\u001b[0mPopulation\u001b[0m\u001b[0;34m[\u001b[0m\u001b[0mi\u001b[0m\u001b[0;34m]\u001b[0m\u001b[0;34m\u001b[0m\u001b[0;34m\u001b[0m\u001b[0m\n\u001b[1;32m     58\u001b[0m             \u001b[0mthreshold\u001b[0m \u001b[0;34m-=\u001b[0m \u001b[0mabs\u001b[0m\u001b[0;34m(\u001b[0m\u001b[0mself\u001b[0m\u001b[0;34m.\u001b[0m\u001b[0mPopulation\u001b[0m\u001b[0;34m[\u001b[0m\u001b[0mi\u001b[0m\u001b[0;34m]\u001b[0m\u001b[0;34m.\u001b[0m\u001b[0mFitness\u001b[0m\u001b[0;34m)\u001b[0m\u001b[0;34m\u001b[0m\u001b[0;34m\u001b[0m\u001b[0m\n",
      "\u001b[0;31mKeyboardInterrupt\u001b[0m: "
     ]
    }
   ],
   "source": [
    "while True:\n",
    "    GA.calculateFitness()\n",
    "    showTopN()\n",
    "    GA.newGeneration()"
   ]
  },
  {
   "cell_type": "code",
   "execution_count": null,
   "metadata": {
    "ExecuteTime": {
     "end_time": "2020-02-19T21:10:15.342195Z",
     "start_time": "2020-02-19T21:10:15.339184Z"
    }
   },
   "outputs": [],
   "source": []
  },
  {
   "cell_type": "code",
   "execution_count": 187,
   "metadata": {
    "ExecuteTime": {
     "end_time": "2020-02-19T21:10:25.110301Z",
     "start_time": "2020-02-19T21:10:21.716378Z"
    }
   },
   "outputs": [
    {
     "name": "stdout",
     "output_type": "stream",
     "text": [
      "Angle: 0.07845638134226596\n",
      "Angle: 0.07845638134226596\n",
      "Angle: 0.695974206093698\n",
      "Angle: 0.2708322512620742\n",
      "Angle: 0.32295647294124596\n",
      "Angle: 0.695974206093698\n",
      "Angle: 0.07845638134226596\n",
      "Angle: 0.02535074341545751\n",
      "Angle: 0.07845638134226596\n",
      "Angle: 0.2708322512620742\n",
      "Fitness 0: 26.03775248178308\n",
      "Fitness 1: 26.03775248178308\n",
      "Fitness 2: -27.161008981875824\n",
      "Fitness 3: -9.957004364745869\n",
      "Fitness 4: -17.759207430192546\n",
      "Fitness 5: -27.161008981875824\n",
      "Fitness 6: 26.03775248178308\n",
      "Fitness 7: 8.685154796774992\n",
      "Fitness 8: 26.03775248178308\n",
      "Fitness 9: -9.957004364745869\n"
     ]
    }
   ],
   "source": [
    "GA.calculateFitness()"
   ]
  },
  {
   "cell_type": "code",
   "execution_count": 188,
   "metadata": {
    "ExecuteTime": {
     "end_time": "2020-02-19T21:10:28.966329Z",
     "start_time": "2020-02-19T21:10:28.962403Z"
    }
   },
   "outputs": [
    {
     "name": "stdout",
     "output_type": "stream",
     "text": [
      "Generation:  3\n",
      "Best fitness:  26.03775248178308\n"
     ]
    }
   ],
   "source": [
    "GA.newGeneration()"
   ]
  },
  {
   "cell_type": "code",
   "execution_count": 189,
   "metadata": {
    "ExecuteTime": {
     "end_time": "2020-02-19T21:10:39.988784Z",
     "start_time": "2020-02-19T21:10:36.436492Z"
    }
   },
   "outputs": [
    {
     "name": "stdout",
     "output_type": "stream",
     "text": [
      "Angle: 0.07845638134226596\n",
      "Angle: 0.02535074341545751\n",
      "Angle: 0.07845638134226596\n",
      "Angle: 0.07845638134226596\n",
      "Angle: 0.07845638134226596\n",
      "Angle: 0.07845638134226596\n",
      "Angle: 0.07845638134226596\n",
      "Angle: 0.02535074341545751\n",
      "Angle: 0.07845638134226596\n",
      "Angle: 0.07845638134226596\n",
      "Fitness 0: 26.03775248178308\n",
      "Fitness 1: 8.685154796774992\n",
      "Fitness 2: 26.03775248178308\n",
      "Fitness 3: 26.03775248178308\n",
      "Fitness 4: 26.03775248178308\n",
      "Fitness 5: 26.03775248178308\n",
      "Fitness 6: 26.03775248178308\n",
      "Fitness 7: 8.685154796774992\n",
      "Fitness 8: 26.03775248178308\n",
      "Fitness 9: 26.03775248178308\n"
     ]
    }
   ],
   "source": [
    "GA.calculateFitness()"
   ]
  },
  {
   "cell_type": "code",
   "execution_count": 190,
   "metadata": {
    "ExecuteTime": {
     "end_time": "2020-02-19T21:10:52.306914Z",
     "start_time": "2020-02-19T21:10:52.297049Z"
    }
   },
   "outputs": [
    {
     "name": "stdout",
     "output_type": "stream",
     "text": [
      "Generation:  4\n",
      "Best fitness:  26.03775248178308\n"
     ]
    }
   ],
   "source": [
    "GA.newGeneration()"
   ]
  },
  {
   "cell_type": "code",
   "execution_count": 24,
   "metadata": {
    "ExecuteTime": {
     "end_time": "2020-02-19T20:03:46.562594Z",
     "start_time": "2020-02-19T20:03:46.557270Z"
    }
   },
   "outputs": [],
   "source": []
  },
  {
   "cell_type": "code",
   "execution_count": 8,
   "metadata": {
    "ExecuteTime": {
     "end_time": "2020-02-19T16:00:43.908047Z",
     "start_time": "2020-02-19T16:00:42.146961Z"
    }
   },
   "outputs": [
    {
     "name": "stdout",
     "output_type": "stream",
     "text": [
      "Initial Y position:\t 0.0\n",
      "Final Y position:\t 8.559659011576974\n"
     ]
    }
   ],
   "source": [
    "\n",
    "        \n",
    "\n",
    "sim.reset()\n",
    "print(\"Initial Y position:\\t\", sim.data.qpos[1])\n",
    "for i in range(1500):\n",
    "    #if i%100==0:\n",
    "        #print(sim.data.qvel[1])\n",
    "    sim.step()\n",
    "    \n",
    "    #viewer.render()\n",
    "\n",
    "print(\"Final Y position:\\t\", sim.data.qpos[1])"
   ]
  },
  {
   "cell_type": "code",
   "execution_count": 9,
   "metadata": {
    "ExecuteTime": {
     "end_time": "2020-02-19T16:00:43.915468Z",
     "start_time": "2020-02-19T16:00:43.910600Z"
    }
   },
   "outputs": [],
   "source": [
    "#model.mj_name2id(\"main-plane\")"
   ]
  },
  {
   "cell_type": "code",
   "execution_count": 10,
   "metadata": {
    "ExecuteTime": {
     "end_time": "2020-02-19T16:00:43.927978Z",
     "start_time": "2020-02-19T16:00:43.918074Z"
    }
   },
   "outputs": [],
   "source": [
    "import matplotlib.pyplot as plt\n",
    "%matplotlib inline\n",
    "from IPython import display"
   ]
  },
  {
   "cell_type": "code",
   "execution_count": 11,
   "metadata": {
    "ExecuteTime": {
     "end_time": "2020-02-19T16:00:43.932892Z",
     "start_time": "2020-02-19T16:00:43.930468Z"
    }
   },
   "outputs": [],
   "source": [
    "#MUJOCO_GL= environment variable to \"glfw\", \"egl\", or \"osmesa\", respectively.\n",
    "#MUJOCO_GL=\"osmesa\""
   ]
  },
  {
   "cell_type": "code",
   "execution_count": 12,
   "metadata": {
    "ExecuteTime": {
     "end_time": "2020-02-19T16:00:44.059266Z",
     "start_time": "2020-02-19T16:00:43.936319Z"
    }
   },
   "outputs": [],
   "source": [
    "model.body_quat[1] = [0.25, 0.7, 0, 0]\n",
    "\n",
    "sim = MjSim(model)"
   ]
  },
  {
   "cell_type": "code",
   "execution_count": 13,
   "metadata": {
    "ExecuteTime": {
     "end_time": "2020-02-19T16:00:54.189656Z",
     "start_time": "2020-02-19T16:00:44.063837Z"
    }
   },
   "outputs": [
    {
     "name": "stdout",
     "output_type": "stream",
     "text": [
      "Creating window glfw\n"
     ]
    },
    {
     "name": "stderr",
     "output_type": "stream",
     "text": [
      "No traceback available to show.\n"
     ]
    },
    {
     "ename": "SystemExit",
     "evalue": "0",
     "output_type": "error",
     "traceback": [
      "An exception has occurred, use %tb to see the full traceback.\n",
      "\u001b[0;31mSystemExit\u001b[0m\u001b[0;31m:\u001b[0m 0\n"
     ]
    },
    {
     "name": "stderr",
     "output_type": "stream",
     "text": [
      "/home/jack/anaconda3/envs/pytorch/lib/python3.7/site-packages/IPython/core/interactiveshell.py:3304: UserWarning: To exit: use 'exit', 'quit', or Ctrl-D.\n",
      "  warn(\"To exit: use 'exit', 'quit', or Ctrl-D.\", stacklevel=1)\n"
     ]
    }
   ],
   "source": [
    "import gym\n",
    "\n",
    "#env = gym.make('Humanoid-v2')\n",
    "#env.reset()\n",
    "sim.reset()\n",
    "viewer = MjViewer(sim)#(sim)\n",
    "for i in range(15000):\n",
    "    #plt.imshow(viewer)\n",
    "    viewer.render()\n",
    "    sim.step()\n",
    "viewer.render()\n",
    "#viewer = None"
   ]
  },
  {
   "cell_type": "code",
   "execution_count": null,
   "metadata": {
    "ExecuteTime": {
     "end_time": "2020-02-19T16:00:54.193170Z",
     "start_time": "2020-02-19T16:00:41.552Z"
    },
    "scrolled": true
   },
   "outputs": [],
   "source": [
    "model.jnt_axis"
   ]
  },
  {
   "cell_type": "code",
   "execution_count": 14,
   "metadata": {
    "ExecuteTime": {
     "end_time": "2020-02-19T16:01:02.115877Z",
     "start_time": "2020-02-19T16:01:02.091788Z"
    }
   },
   "outputs": [
    {
     "ename": "SystemExit",
     "evalue": "0",
     "output_type": "error",
     "traceback": [
      "\u001b[0;31m---------------------------------------------------------------------------\u001b[0m",
      "\u001b[0;31mSystemExit\u001b[0m                                Traceback (most recent call last)",
      "\u001b[0;32m<ipython-input-13-63d03732752e>\u001b[0m in \u001b[0;36m<module>\u001b[0;34m\u001b[0m\n\u001b[1;32m      8\u001b[0m \u001b[0;32mfor\u001b[0m \u001b[0mi\u001b[0m \u001b[0;32min\u001b[0m \u001b[0mrange\u001b[0m\u001b[0;34m(\u001b[0m\u001b[0;36m15000\u001b[0m\u001b[0;34m)\u001b[0m\u001b[0;34m:\u001b[0m\u001b[0;34m\u001b[0m\u001b[0;34m\u001b[0m\u001b[0m\n\u001b[1;32m      9\u001b[0m     \u001b[0;31m#plt.imshow(viewer)\u001b[0m\u001b[0;34m\u001b[0m\u001b[0;34m\u001b[0m\u001b[0;34m\u001b[0m\u001b[0m\n\u001b[0;32m---> 10\u001b[0;31m     \u001b[0mviewer\u001b[0m\u001b[0;34m.\u001b[0m\u001b[0mrender\u001b[0m\u001b[0;34m(\u001b[0m\u001b[0;34m)\u001b[0m\u001b[0;34m\u001b[0m\u001b[0;34m\u001b[0m\u001b[0m\n\u001b[0m\u001b[1;32m     11\u001b[0m     \u001b[0msim\u001b[0m\u001b[0;34m.\u001b[0m\u001b[0mstep\u001b[0m\u001b[0;34m(\u001b[0m\u001b[0;34m)\u001b[0m\u001b[0;34m\u001b[0m\u001b[0;34m\u001b[0m\u001b[0m\n\u001b[1;32m     12\u001b[0m \u001b[0mviewer\u001b[0m\u001b[0;34m.\u001b[0m\u001b[0mrender\u001b[0m\u001b[0;34m(\u001b[0m\u001b[0;34m)\u001b[0m\u001b[0;34m\u001b[0m\u001b[0;34m\u001b[0m\u001b[0m\n",
      "\u001b[0;32m~/anaconda3/envs/pytorch/lib/python3.7/site-packages/mujoco_py/mjviewer.py\u001b[0m in \u001b[0;36mrender\u001b[0;34m(self)\u001b[0m\n\u001b[1;32m    204\u001b[0m                 \u001b[0mself\u001b[0m\u001b[0;34m.\u001b[0m\u001b[0m_loop_count\u001b[0m \u001b[0;34m=\u001b[0m \u001b[0;36m1\u001b[0m\u001b[0;34m\u001b[0m\u001b[0;34m\u001b[0m\u001b[0m\n\u001b[1;32m    205\u001b[0m             \u001b[0;32mwhile\u001b[0m \u001b[0mself\u001b[0m\u001b[0;34m.\u001b[0m\u001b[0m_loop_count\u001b[0m \u001b[0;34m>\u001b[0m \u001b[0;36m0\u001b[0m\u001b[0;34m:\u001b[0m\u001b[0;34m\u001b[0m\u001b[0;34m\u001b[0m\u001b[0m\n\u001b[0;32m--> 206\u001b[0;31m                 \u001b[0mrender_inner_loop\u001b[0m\u001b[0;34m(\u001b[0m\u001b[0mself\u001b[0m\u001b[0;34m)\u001b[0m\u001b[0;34m\u001b[0m\u001b[0;34m\u001b[0m\u001b[0m\n\u001b[0m\u001b[1;32m    207\u001b[0m                 \u001b[0mself\u001b[0m\u001b[0;34m.\u001b[0m\u001b[0m_loop_count\u001b[0m \u001b[0;34m-=\u001b[0m \u001b[0;36m1\u001b[0m\u001b[0;34m\u001b[0m\u001b[0;34m\u001b[0m\u001b[0m\n\u001b[1;32m    208\u001b[0m         \u001b[0;31m# Markers and overlay are regenerated in every pass.\u001b[0m\u001b[0;34m\u001b[0m\u001b[0;34m\u001b[0m\u001b[0;34m\u001b[0m\u001b[0m\n",
      "\u001b[0;32m~/anaconda3/envs/pytorch/lib/python3.7/site-packages/mujoco_py/mjviewer.py\u001b[0m in \u001b[0;36mrender_inner_loop\u001b[0;34m(self)\u001b[0m\n\u001b[1;32m    180\u001b[0m                     \u001b[0mself\u001b[0m\u001b[0;34m.\u001b[0m\u001b[0m_overlay\u001b[0m\u001b[0;34m[\u001b[0m\u001b[0mk\u001b[0m\u001b[0;34m]\u001b[0m \u001b[0;34m=\u001b[0m \u001b[0mcopy\u001b[0m\u001b[0;34m.\u001b[0m\u001b[0mdeepcopy\u001b[0m\u001b[0;34m(\u001b[0m\u001b[0mv\u001b[0m\u001b[0;34m)\u001b[0m\u001b[0;34m\u001b[0m\u001b[0;34m\u001b[0m\u001b[0m\n\u001b[1;32m    181\u001b[0m                 \u001b[0mself\u001b[0m\u001b[0;34m.\u001b[0m\u001b[0m_create_full_overlay\u001b[0m\u001b[0;34m(\u001b[0m\u001b[0;34m)\u001b[0m\u001b[0;34m\u001b[0m\u001b[0;34m\u001b[0m\u001b[0m\n\u001b[0;32m--> 182\u001b[0;31m             \u001b[0msuper\u001b[0m\u001b[0;34m(\u001b[0m\u001b[0;34m)\u001b[0m\u001b[0;34m.\u001b[0m\u001b[0mrender\u001b[0m\u001b[0;34m(\u001b[0m\u001b[0;34m)\u001b[0m\u001b[0;34m\u001b[0m\u001b[0;34m\u001b[0m\u001b[0m\n\u001b[0m\u001b[1;32m    183\u001b[0m             \u001b[0;32mif\u001b[0m \u001b[0mself\u001b[0m\u001b[0;34m.\u001b[0m\u001b[0m_record_video\u001b[0m\u001b[0;34m:\u001b[0m\u001b[0;34m\u001b[0m\u001b[0;34m\u001b[0m\u001b[0m\n\u001b[1;32m    184\u001b[0m                 \u001b[0mframe\u001b[0m \u001b[0;34m=\u001b[0m \u001b[0mself\u001b[0m\u001b[0;34m.\u001b[0m\u001b[0m_read_pixels_as_in_window\u001b[0m\u001b[0;34m(\u001b[0m\u001b[0;34m)\u001b[0m\u001b[0;34m\u001b[0m\u001b[0;34m\u001b[0m\u001b[0m\n",
      "\u001b[0;32m~/anaconda3/envs/pytorch/lib/python3.7/site-packages/mujoco_py/mjviewer.py\u001b[0m in \u001b[0;36mrender\u001b[0;34m(self)\u001b[0m\n\u001b[1;32m     53\u001b[0m         \u001b[0;32melif\u001b[0m \u001b[0mglfw\u001b[0m\u001b[0;34m.\u001b[0m\u001b[0mwindow_should_close\u001b[0m\u001b[0;34m(\u001b[0m\u001b[0mself\u001b[0m\u001b[0;34m.\u001b[0m\u001b[0mwindow\u001b[0m\u001b[0;34m)\u001b[0m\u001b[0;34m:\u001b[0m\u001b[0;34m\u001b[0m\u001b[0;34m\u001b[0m\u001b[0m\n\u001b[1;32m     54\u001b[0m             \u001b[0mglfw\u001b[0m\u001b[0;34m.\u001b[0m\u001b[0mterminate\u001b[0m\u001b[0;34m(\u001b[0m\u001b[0;34m)\u001b[0m\u001b[0;34m\u001b[0m\u001b[0;34m\u001b[0m\u001b[0m\n\u001b[0;32m---> 55\u001b[0;31m             \u001b[0msys\u001b[0m\u001b[0;34m.\u001b[0m\u001b[0mexit\u001b[0m\u001b[0;34m(\u001b[0m\u001b[0;36m0\u001b[0m\u001b[0;34m)\u001b[0m\u001b[0;34m\u001b[0m\u001b[0;34m\u001b[0m\u001b[0m\n\u001b[0m\u001b[1;32m     56\u001b[0m \u001b[0;34m\u001b[0m\u001b[0m\n\u001b[1;32m     57\u001b[0m         \u001b[0;32mwith\u001b[0m \u001b[0mself\u001b[0m\u001b[0;34m.\u001b[0m\u001b[0m_gui_lock\u001b[0m\u001b[0;34m:\u001b[0m\u001b[0;34m\u001b[0m\u001b[0;34m\u001b[0m\u001b[0m\n",
      "\u001b[0;31mSystemExit\u001b[0m: 0"
     ]
    }
   ],
   "source": [
    "\n",
    "%tb"
   ]
  },
  {
   "cell_type": "code",
   "execution_count": null,
   "metadata": {},
   "outputs": [],
   "source": []
  }
 ],
 "metadata": {
  "kernelspec": {
   "display_name": "Python 3",
   "language": "python",
   "name": "python3"
  },
  "language_info": {
   "codemirror_mode": {
    "name": "ipython",
    "version": 3
   },
   "file_extension": ".py",
   "mimetype": "text/x-python",
   "name": "python",
   "nbconvert_exporter": "python",
   "pygments_lexer": "ipython3",
   "version": "3.7.3"
  },
  "toc": {
   "base_numbering": 1,
   "nav_menu": {},
   "number_sections": true,
   "sideBar": true,
   "skip_h1_title": false,
   "title_cell": "Table of Contents",
   "title_sidebar": "Contents",
   "toc_cell": false,
   "toc_position": {},
   "toc_section_display": true,
   "toc_window_display": false
  }
 },
 "nbformat": 4,
 "nbformat_minor": 2
}
